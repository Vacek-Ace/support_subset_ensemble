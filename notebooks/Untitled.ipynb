{
 "cells": [
  {
   "cell_type": "code",
   "execution_count": 1,
   "id": "98714122-c5fd-460e-94fb-7279ec918847",
   "metadata": {},
   "outputs": [],
   "source": [
    "%load_ext autoreload\n",
    "%autoreload 2"
   ]
  },
  {
   "cell_type": "code",
   "execution_count": 2,
   "id": "899496e4-21e3-4ada-a8ce-7d9a242a62dc",
   "metadata": {},
   "outputs": [],
   "source": [
    "import warnings\n",
    "warnings.filterwarnings('ignore')"
   ]
  },
  {
   "cell_type": "code",
   "execution_count": 71,
   "id": "afc3fb0a-f02b-4528-a0e3-4bf27f65f8aa",
   "metadata": {},
   "outputs": [],
   "source": [
    "from collections import Counter\n",
    "from sklearn.svm import SVC\n",
    "import random\n",
    "from sklearn.utils.validation import check_random_state\n",
    "import numpy as np\n",
    "from src.model import boosted_support_subset\n",
    "from mlxtend.plotting import plot_decision_regions"
   ]
  },
  {
   "cell_type": "code",
   "execution_count": 16,
   "id": "410cd252-47fd-44df-8263-7fa7d58f4959",
   "metadata": {},
   "outputs": [],
   "source": [
    "idx = [i for i in range(100)]"
   ]
  },
  {
   "cell_type": "code",
   "execution_count": 36,
   "id": "6902722f-abe5-4e71-8edf-c1c9f206ac22",
   "metadata": {},
   "outputs": [],
   "source": [
    "ss_idx = []"
   ]
  },
  {
   "cell_type": "code",
   "execution_count": 37,
   "id": "4909631c-ee0e-4bea-90c8-8802f7825b48",
   "metadata": {},
   "outputs": [
    {
     "data": {
      "text/plain": [
       "[]"
      ]
     },
     "execution_count": 37,
     "metadata": {},
     "output_type": "execute_result"
    }
   ],
   "source": [
    "ss_idx"
   ]
  },
  {
   "cell_type": "code",
   "execution_count": 38,
   "id": "543015b5-c387-43ea-a039-c0d5978a961b",
   "metadata": {},
   "outputs": [],
   "source": [
    "ss_index1 = [random.randint(0, len(idx)) for _ in range(15)]\n",
    "ss_index2 = [random.randint(0, len(idx)) for _ in range(15)]"
   ]
  },
  {
   "cell_type": "code",
   "execution_count": 39,
   "id": "08877e3d-60cf-4e2a-b02c-826781ea44ea",
   "metadata": {},
   "outputs": [
    {
     "data": {
      "text/plain": [
       "[35, 59, 52, 75, 61, 43, 31, 70, 52, 39, 31, 67, 94, 93, 84]"
      ]
     },
     "execution_count": 39,
     "metadata": {},
     "output_type": "execute_result"
    }
   ],
   "source": [
    "ss_index1"
   ]
  },
  {
   "cell_type": "code",
   "execution_count": 40,
   "id": "dd80b193-2095-4b83-9ffa-e25541fbf1ff",
   "metadata": {},
   "outputs": [],
   "source": [
    "ss_idx.extend(ss_index1)"
   ]
  },
  {
   "cell_type": "code",
   "execution_count": 41,
   "id": "61c1ffc8-485c-4b55-aa8d-2165c1604e0d",
   "metadata": {},
   "outputs": [
    {
     "data": {
      "text/plain": [
       "[35, 59, 52, 75, 61, 43, 31, 70, 52, 39, 31, 67, 94, 93, 84]"
      ]
     },
     "execution_count": 41,
     "metadata": {},
     "output_type": "execute_result"
    }
   ],
   "source": [
    "ss_idx"
   ]
  },
  {
   "cell_type": "code",
   "execution_count": 15,
   "id": "84de8d48-fd84-46a3-9615-58ebb11b3816",
   "metadata": {},
   "outputs": [
    {
     "data": {
      "text/plain": [
       "[92, 13, 40, 2, 47, 25, 3, 98, 2, 64, 30, 48, 63, 42, 97]"
      ]
     },
     "execution_count": 15,
     "metadata": {},
     "output_type": "execute_result"
    }
   ],
   "source": [
    "ss_index2"
   ]
  },
  {
   "cell_type": "code",
   "execution_count": 42,
   "id": "a29e2bd9-9648-430b-b649-86290a66c3e0",
   "metadata": {},
   "outputs": [],
   "source": [
    "active_idx = list(set(idx) - set(ss_idx))"
   ]
  },
  {
   "cell_type": "code",
   "execution_count": 44,
   "id": "9c18682d-bd47-4e6e-bbf0-10c5343d3b91",
   "metadata": {},
   "outputs": [
    {
     "data": {
      "text/plain": [
       "87"
      ]
     },
     "execution_count": 44,
     "metadata": {},
     "output_type": "execute_result"
    }
   ],
   "source": [
    "len(active_idx)"
   ]
  },
  {
   "cell_type": "code",
   "execution_count": null,
   "id": "5fb00966-739c-4ad4-9e48-1fec8647505a",
   "metadata": {},
   "outputs": [],
   "source": [
    "random_instance."
   ]
  },
  {
   "cell_type": "code",
   "execution_count": 50,
   "id": "8561f8e0-68a0-410b-82d9-0026a86eb9c7",
   "metadata": {},
   "outputs": [
    {
     "name": "stdout",
     "output_type": "stream",
     "text": [
      "[51 96 41 58 87 24 15 54 23 26 30 47 30 26 65 79 91 83 51 55]\n",
      "[86 36  2 77 81 37 60 16 16 55 76 90 20 89 41 44 71 90 11 32]\n",
      "[37 86 92 28 63 90 62 34 83 62 19 99 80 68 64 60 28 50 18 38]\n",
      "[11 42  7  0 34 83 87 92 15 64 98 10 82 88  0 12 18 90 74  6]\n",
      "[78 71 18 82 66 44 86 21 97 41 63 72 56  4 53 30 51 30  2 50]\n",
      "[ 0 27 78 77 79 30 46 56 82 42 56 74 90 90 91 81 68 17 81 16]\n",
      "[51 33 13 62 37 29 77 15 40 45 40 17 20 85 25 38 91 51 33 77]\n",
      "[64 63 86 14 69 68 12 63 91 90 77 78 32 86 74 10 26 32  9 46]\n",
      "[90 53 47 73 76 91 60  3 97 92 76 15  9  5 65 95 65  1 19 83]\n",
      "[56  3  7 29 54 46  8 74 29 83 88 29 91 40  9 58 17 37 89 88]\n"
     ]
    }
   ],
   "source": [
    "for i in range(10):\n",
    "    random_instance = check_random_state(1234 + i)\n",
    "    sample_idx = random_instance.choice(active_idx, 20)\n",
    "    print(sample_idx)"
   ]
  },
  {
   "cell_type": "code",
   "execution_count": 51,
   "id": "eab16616-ca4f-4beb-9c99-e4eb39491491",
   "metadata": {},
   "outputs": [],
   "source": [
    "idx_learner = 0"
   ]
  },
  {
   "cell_type": "code",
   "execution_count": 52,
   "id": "49acbcad-f532-446f-ab7f-9e7fe59c6ee5",
   "metadata": {},
   "outputs": [],
   "source": [
    " idx_learner += 1"
   ]
  },
  {
   "cell_type": "code",
   "execution_count": 54,
   "id": "775fc13e-bc73-4cc5-b9eb-7659804c5a66",
   "metadata": {},
   "outputs": [],
   "source": [
    "idx_learner = 0\n",
    "while True:\n",
    "        \n",
    "        idx_learner += 1\n",
    "        if idx_learner > 10:\n",
    "            break"
   ]
  },
  {
   "cell_type": "code",
   "execution_count": 72,
   "id": "46a361e7-83d9-457a-82ef-8829f9a4cd0d",
   "metadata": {},
   "outputs": [],
   "source": [
    "pepe = Counter(np.hstack([np.ones(5), -1*np.ones(11)]))"
   ]
  },
  {
   "cell_type": "code",
   "execution_count": 84,
   "id": "72bdb5ac-600b-41cf-a2ec-d7adfd2a8f54",
   "metadata": {},
   "outputs": [
    {
     "data": {
      "text/plain": [
       "2"
      ]
     },
     "execution_count": 84,
     "metadata": {},
     "output_type": "execute_result"
    }
   ],
   "source": [
    "sum([pepe[i] > 2 for i in pepe])"
   ]
  },
  {
   "cell_type": "code",
   "execution_count": 65,
   "id": "3dc75cd4-91bd-46e7-ad97-627fb3c5fd1a",
   "metadata": {},
   "outputs": [
    {
     "data": {
      "text/plain": [
       "False"
      ]
     },
     "execution_count": 65,
     "metadata": {},
     "output_type": "execute_result"
    }
   ],
   "source": [
    "(Counter(np.hstack([np.ones(5), -1*np.ones(11)]))[0] > 2) & (Counter(np.hstack([np.ones(5), -1*np.ones(11)]))[1] > 2)"
   ]
  },
  {
   "cell_type": "code",
   "execution_count": 68,
   "id": "8c633aba-9a21-43cf-9fe0-69681cbefca0",
   "metadata": {},
   "outputs": [
    {
     "data": {
      "text/plain": [
       "0"
      ]
     },
     "execution_count": 68,
     "metadata": {},
     "output_type": "execute_result"
    }
   ],
   "source": [
    "()[0]"
   ]
  }
 ],
 "metadata": {
  "kernelspec": {
   "display_name": "Python [conda env:bss] *",
   "language": "python",
   "name": "conda-env-bss-py"
  },
  "language_info": {
   "codemirror_mode": {
    "name": "ipython",
    "version": 3
   },
   "file_extension": ".py",
   "mimetype": "text/x-python",
   "name": "python",
   "nbconvert_exporter": "python",
   "pygments_lexer": "ipython3",
   "version": "3.10.0"
  }
 },
 "nbformat": 4,
 "nbformat_minor": 5
}
